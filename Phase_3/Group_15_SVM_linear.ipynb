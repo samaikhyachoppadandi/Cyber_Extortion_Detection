{
 "cells": [
  {
   "cell_type": "code",
   "execution_count": 1,
   "id": "33d09135",
   "metadata": {},
   "outputs": [],
   "source": [
    "import numpy as np\n",
    "import pandas as pd\n",
    "from sklearn.model_selection import train_test_split\n",
    "from sklearn.metrics import accuracy_score,recall_score,confusion_matrix\n",
    "import random\n",
    "from sklearn.model_selection import RandomizedSearchCV\n",
    "from sklearn import metrics\n",
    "from sklearn.svm import SVC\n",
    "import seaborn as sns\n",
    "import matplotlib.pyplot as plt\n",
    "import warnings\n",
    "warnings.filterwarnings('ignore')"
   ]
  },
  {
   "cell_type": "code",
   "execution_count": 2,
   "id": "173cc074",
   "metadata": {},
   "outputs": [],
   "source": [
    "df = pd.read_csv(\"Group_15_Resampled_Data.csv\")"
   ]
  },
  {
   "cell_type": "code",
   "execution_count": 3,
   "id": "6f8caa72",
   "metadata": {},
   "outputs": [
    {
     "data": {
      "text/html": [
       "<div>\n",
       "<style scoped>\n",
       "    .dataframe tbody tr th:only-of-type {\n",
       "        vertical-align: middle;\n",
       "    }\n",
       "\n",
       "    .dataframe tbody tr th {\n",
       "        vertical-align: top;\n",
       "    }\n",
       "\n",
       "    .dataframe thead th {\n",
       "        text-align: right;\n",
       "    }\n",
       "</style>\n",
       "<table border=\"1\" class=\"dataframe\">\n",
       "  <thead>\n",
       "    <tr style=\"text-align: right;\">\n",
       "      <th></th>\n",
       "      <th>Unnamed: 0</th>\n",
       "      <th>n_address</th>\n",
       "      <th>gaussian_income</th>\n",
       "      <th>gaussian_neighbors</th>\n",
       "      <th>gaussian_weight</th>\n",
       "      <th>gaussian_length</th>\n",
       "      <th>log_count</th>\n",
       "      <th>sigmoid_looped</th>\n",
       "      <th>interaction_count_income</th>\n",
       "      <th>day_of_week</th>\n",
       "      <th>quarter_number</th>\n",
       "      <th>interaction_length_weight</th>\n",
       "      <th>Label-0/1</th>\n",
       "    </tr>\n",
       "  </thead>\n",
       "  <tbody>\n",
       "    <tr>\n",
       "      <th>0</th>\n",
       "      <td>0</td>\n",
       "      <td>0.0</td>\n",
       "      <td>4.139383</td>\n",
       "      <td>5.841922e-01</td>\n",
       "      <td>-2.176504</td>\n",
       "      <td>-0.005319</td>\n",
       "      <td>9.999995e-07</td>\n",
       "      <td>0.5</td>\n",
       "      <td>2.0</td>\n",
       "      <td>4.0</td>\n",
       "      <td>1.0</td>\n",
       "      <td>1.0</td>\n",
       "      <td>0.0</td>\n",
       "    </tr>\n",
       "    <tr>\n",
       "      <th>1</th>\n",
       "      <td>1</td>\n",
       "      <td>0.0</td>\n",
       "      <td>4.128887</td>\n",
       "      <td>9.999992e-07</td>\n",
       "      <td>-1.459234</td>\n",
       "      <td>-0.175784</td>\n",
       "      <td>6.931477e-01</td>\n",
       "      <td>0.5</td>\n",
       "      <td>0.0</td>\n",
       "      <td>3.0</td>\n",
       "      <td>4.0</td>\n",
       "      <td>1.0</td>\n",
       "      <td>0.0</td>\n",
       "    </tr>\n",
       "    <tr>\n",
       "      <th>2</th>\n",
       "      <td>2</td>\n",
       "      <td>0.0</td>\n",
       "      <td>4.117056</td>\n",
       "      <td>5.841922e-01</td>\n",
       "      <td>0.000000</td>\n",
       "      <td>-0.895270</td>\n",
       "      <td>9.999995e-07</td>\n",
       "      <td>0.5</td>\n",
       "      <td>2.0</td>\n",
       "      <td>2.0</td>\n",
       "      <td>2.0</td>\n",
       "      <td>2.0</td>\n",
       "      <td>0.0</td>\n",
       "    </tr>\n",
       "    <tr>\n",
       "      <th>3</th>\n",
       "      <td>3</td>\n",
       "      <td>0.0</td>\n",
       "      <td>4.149871</td>\n",
       "      <td>5.841922e-01</td>\n",
       "      <td>0.000000</td>\n",
       "      <td>-0.175784</td>\n",
       "      <td>9.999995e-07</td>\n",
       "      <td>0.5</td>\n",
       "      <td>2.0</td>\n",
       "      <td>6.0</td>\n",
       "      <td>2.0</td>\n",
       "      <td>0.0</td>\n",
       "      <td>0.0</td>\n",
       "    </tr>\n",
       "    <tr>\n",
       "      <th>4</th>\n",
       "      <td>4</td>\n",
       "      <td>0.0</td>\n",
       "      <td>4.137021</td>\n",
       "      <td>5.841922e-01</td>\n",
       "      <td>-4.982589</td>\n",
       "      <td>-0.835088</td>\n",
       "      <td>7.823646e+00</td>\n",
       "      <td>1.0</td>\n",
       "      <td>0.0</td>\n",
       "      <td>1.0</td>\n",
       "      <td>4.0</td>\n",
       "      <td>1.0</td>\n",
       "      <td>0.0</td>\n",
       "    </tr>\n",
       "  </tbody>\n",
       "</table>\n",
       "</div>"
      ],
      "text/plain": [
       "   Unnamed: 0  n_address  gaussian_income  gaussian_neighbors  \\\n",
       "0           0        0.0         4.139383        5.841922e-01   \n",
       "1           1        0.0         4.128887        9.999992e-07   \n",
       "2           2        0.0         4.117056        5.841922e-01   \n",
       "3           3        0.0         4.149871        5.841922e-01   \n",
       "4           4        0.0         4.137021        5.841922e-01   \n",
       "\n",
       "   gaussian_weight  gaussian_length     log_count  sigmoid_looped  \\\n",
       "0        -2.176504        -0.005319  9.999995e-07             0.5   \n",
       "1        -1.459234        -0.175784  6.931477e-01             0.5   \n",
       "2         0.000000        -0.895270  9.999995e-07             0.5   \n",
       "3         0.000000        -0.175784  9.999995e-07             0.5   \n",
       "4        -4.982589        -0.835088  7.823646e+00             1.0   \n",
       "\n",
       "   interaction_count_income  day_of_week  quarter_number  \\\n",
       "0                       2.0          4.0             1.0   \n",
       "1                       0.0          3.0             4.0   \n",
       "2                       2.0          2.0             2.0   \n",
       "3                       2.0          6.0             2.0   \n",
       "4                       0.0          1.0             4.0   \n",
       "\n",
       "   interaction_length_weight  Label-0/1  \n",
       "0                        1.0        0.0  \n",
       "1                        1.0        0.0  \n",
       "2                        2.0        0.0  \n",
       "3                        0.0        0.0  \n",
       "4                        1.0        0.0  "
      ]
     },
     "execution_count": 3,
     "metadata": {},
     "output_type": "execute_result"
    }
   ],
   "source": [
    "df.head()"
   ]
  },
  {
   "cell_type": "code",
   "execution_count": 4,
   "id": "5c20d551",
   "metadata": {},
   "outputs": [],
   "source": [
    "df = df.iloc[:,1:]"
   ]
  },
  {
   "cell_type": "code",
   "execution_count": 5,
   "id": "3c6fe381",
   "metadata": {},
   "outputs": [
    {
     "data": {
      "text/plain": [
       "0.0    414130\n",
       "1.0    414130\n",
       "Name: Label-0/1, dtype: int64"
      ]
     },
     "execution_count": 5,
     "metadata": {},
     "output_type": "execute_result"
    }
   ],
   "source": [
    "df['Label-0/1'].value_counts()"
   ]
  },
  {
   "cell_type": "code",
   "execution_count": 6,
   "id": "cfa06743",
   "metadata": {},
   "outputs": [],
   "source": [
    "X = df.drop(['Label-0/1'], axis = 1)\n",
    "y = df['Label-0/1']"
   ]
  },
  {
   "cell_type": "code",
   "execution_count": 7,
   "id": "7f9941fe",
   "metadata": {},
   "outputs": [],
   "source": [
    "X_train, X_test, y_train, y_test = train_test_split(X,y,random_state = 42,test_size = 0.2)"
   ]
  },
  {
   "cell_type": "markdown",
   "id": "22f34c9e",
   "metadata": {},
   "source": [
    "### Support Vector Machines"
   ]
  },
  {
   "cell_type": "code",
   "execution_count": null,
   "id": "7baa2237",
   "metadata": {},
   "outputs": [],
   "source": [
    "#Hyper-paramter tuning\n",
    "svc_hyperparams = RandomizedSearchCV(\n",
    "    estimator = SVC(),\n",
    "    param_distributions = {\n",
    "        'C' : [1, 10,100,1000]\n",
    "    },\n",
    "    n_jobs = -1,\n",
    "    verbose = 5,\n",
    "    random_state = 42,\n",
    "    return_train_score = True,\n",
    "    n_iter = 10\n",
    ")\n",
    "svc_hyperparams.fit(X_train,y_train)"
   ]
  },
  {
   "cell_type": "code",
   "execution_count": null,
   "id": "4dbbec9d",
   "metadata": {},
   "outputs": [],
   "source": [
    "#best hyper-parameter\n",
    "svc_hyperparams.best_params_"
   ]
  },
  {
   "cell_type": "code",
   "execution_count": 8,
   "id": "31822d60",
   "metadata": {},
   "outputs": [],
   "source": [
    "#fitting the model with best params\n",
    "from sklearn.linear_model import SGDClassifier\n",
    "svc_model = SGDClassifier(\n",
    "    loss = 'hinge',\n",
    "    n_jobs = -1,\n",
    "    alpha = 1e-6, # alpha = 1/C and our best C = 100\n",
    "    penalty = 'elasticnet',\n",
    "    random_state = 42,\n",
    "    class_weight = 'balanced'\n",
    ").fit(X_train, y_train)"
   ]
  },
  {
   "cell_type": "code",
   "execution_count": 9,
   "id": "31f16c2d",
   "metadata": {},
   "outputs": [],
   "source": [
    "svc_preds = svc_model.predict(X_train)"
   ]
  },
  {
   "cell_type": "code",
   "execution_count": 10,
   "id": "8013933c",
   "metadata": {},
   "outputs": [
    {
     "name": "stdout",
     "output_type": "stream",
     "text": [
      "Accuracy for our training dataset 0.708790114215343\n",
      "Recall for our testing dataset 0.5611850268542083\n"
     ]
    }
   ],
   "source": [
    "print(\"Accuracy for our training dataset\",accuracy_score(y_true = y_train, y_pred = svc_preds))\n",
    "recall_score = recall_score(y_true = y_train, y_pred = svc_preds)\n",
    "print(\"Recall for our testing dataset\",recall_score)"
   ]
  },
  {
   "cell_type": "code",
   "execution_count": 11,
   "id": "79285b9f",
   "metadata": {},
   "outputs": [],
   "source": [
    "cm = confusion_matrix(y_train,svc_preds)"
   ]
  },
  {
   "cell_type": "code",
   "execution_count": 12,
   "id": "44332ab3",
   "metadata": {},
   "outputs": [
    {
     "data": {
      "image/png": "[encoded data removed]",
      "text/plain": [
       "<Figure size 432x288 with 2 Axes>"
      ]
     },
     "metadata": {
      "needs_background": "light"
     },
     "output_type": "display_data"
    }
   ],
   "source": [
    "ax = sns.heatmap(cm, annot = True, cmap = 'Blues')\n",
    "ax.set_title(\"Confusion Matrix with SVM\")\n",
    "ax.set_xlabel(\"\\nPredicted Values\")\n",
    "ax.set_ylabel(\"Actual Values\")\n",
    "plt.show()"
   ]
  },
  {
   "cell_type": "code",
   "execution_count": 13,
   "id": "aad3ecaf",
   "metadata": {},
   "outputs": [],
   "source": [
    "import pickle"
   ]
  },
  {
   "cell_type": "code",
   "execution_count": 14,
   "id": "85a59d3a",
   "metadata": {},
   "outputs": [],
   "source": [
    "filename = 'svc_model.sav'\n",
    "pickle.dump(svc_model, open(filename, 'wb'))"
   ]
  },
  {
   "cell_type": "code",
   "execution_count": null,
   "id": "964a3df5",
   "metadata": {},
   "outputs": [],
   "source": []
  }
 ],
 "metadata": {
  "kernelspec": {
   "display_name": "Python 3 (ipykernel)",
   "language": "python",
   "name": "python3"
  },
  "language_info": {
   "codemirror_mode": {
    "name": "ipython",
    "version": 3
   },
   "file_extension": ".py",
   "mimetype": "text/x-python",
   "name": "python",
   "nbconvert_exporter": "python",
   "pygments_lexer": "ipython3",
   "version": "3.9.7"
  }
 },
 "nbformat": 4,
 "nbformat_minor": 5
}
