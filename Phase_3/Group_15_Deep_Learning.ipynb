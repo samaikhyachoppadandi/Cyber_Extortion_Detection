{
 "cells": [
  {
   "cell_type": "code",
   "execution_count": 1,
   "id": "b3a612fa",
   "metadata": {},
   "outputs": [],
   "source": [
    "import numpy as np \n",
    "import pandas as pd\n",
    "from sklearn.model_selection import train_test_split\n",
    "import tensorflow as tf\n",
    "from tensorflow import keras\n",
    "from tensorflow.keras import layers\n",
    "import matplotlib as mpl\n",
    "import matplotlib.pyplot as plt"
   ]
  },
  {
   "cell_type": "code",
   "execution_count": 2,
   "id": "4a3dcb49",
   "metadata": {},
   "outputs": [],
   "source": [
    "df = pd.read_csv(\"Group_15_Resampled_Data.csv\")"
   ]
  },
  {
   "cell_type": "code",
   "execution_count": 3,
   "id": "50681e0d",
   "metadata": {},
   "outputs": [
    {
     "data": {
      "text/html": [
       "<div>\n",
       "<style scoped>\n",
       "    .dataframe tbody tr th:only-of-type {\n",
       "        vertical-align: middle;\n",
       "    }\n",
       "\n",
       "    .dataframe tbody tr th {\n",
       "        vertical-align: top;\n",
       "    }\n",
       "\n",
       "    .dataframe thead th {\n",
       "        text-align: right;\n",
       "    }\n",
       "</style>\n",
       "<table border=\"1\" class=\"dataframe\">\n",
       "  <thead>\n",
       "    <tr style=\"text-align: right;\">\n",
       "      <th></th>\n",
       "      <th>Unnamed: 0</th>\n",
       "      <th>n_address</th>\n",
       "      <th>gaussian_income</th>\n",
       "      <th>gaussian_neighbors</th>\n",
       "      <th>gaussian_weight</th>\n",
       "      <th>gaussian_length</th>\n",
       "      <th>log_count</th>\n",
       "      <th>sigmoid_looped</th>\n",
       "      <th>interaction_count_income</th>\n",
       "      <th>day_of_week</th>\n",
       "      <th>quarter_number</th>\n",
       "      <th>interaction_length_weight</th>\n",
       "      <th>Label-0/1</th>\n",
       "    </tr>\n",
       "  </thead>\n",
       "  <tbody>\n",
       "    <tr>\n",
       "      <th>0</th>\n",
       "      <td>0</td>\n",
       "      <td>0.000000</td>\n",
       "      <td>4.117884</td>\n",
       "      <td>9.999992e-07</td>\n",
       "      <td>-0.807395</td>\n",
       "      <td>-0.676189</td>\n",
       "      <td>8.753529e+00</td>\n",
       "      <td>0.5</td>\n",
       "      <td>1.0</td>\n",
       "      <td>2.0</td>\n",
       "      <td>3.0</td>\n",
       "      <td>0.0</td>\n",
       "      <td>0.0</td>\n",
       "    </tr>\n",
       "    <tr>\n",
       "      <th>1</th>\n",
       "      <td>1</td>\n",
       "      <td>0.040003</td>\n",
       "      <td>4.109888</td>\n",
       "      <td>9.999992e-07</td>\n",
       "      <td>-4.661741</td>\n",
       "      <td>-0.074841</td>\n",
       "      <td>9.999995e-07</td>\n",
       "      <td>0.5</td>\n",
       "      <td>2.0</td>\n",
       "      <td>2.0</td>\n",
       "      <td>4.0</td>\n",
       "      <td>1.0</td>\n",
       "      <td>0.0</td>\n",
       "    </tr>\n",
       "    <tr>\n",
       "      <th>2</th>\n",
       "      <td>2</td>\n",
       "      <td>0.000000</td>\n",
       "      <td>4.124657</td>\n",
       "      <td>5.841922e-01</td>\n",
       "      <td>0.000000</td>\n",
       "      <td>-0.895270</td>\n",
       "      <td>9.999995e-07</td>\n",
       "      <td>0.5</td>\n",
       "      <td>2.0</td>\n",
       "      <td>4.0</td>\n",
       "      <td>3.0</td>\n",
       "      <td>2.0</td>\n",
       "      <td>0.0</td>\n",
       "    </tr>\n",
       "    <tr>\n",
       "      <th>3</th>\n",
       "      <td>3</td>\n",
       "      <td>0.000000</td>\n",
       "      <td>4.133164</td>\n",
       "      <td>5.841922e-01</td>\n",
       "      <td>-2.870421</td>\n",
       "      <td>-0.835088</td>\n",
       "      <td>9.013717e+00</td>\n",
       "      <td>1.0</td>\n",
       "      <td>0.0</td>\n",
       "      <td>4.0</td>\n",
       "      <td>1.0</td>\n",
       "      <td>1.0</td>\n",
       "      <td>0.0</td>\n",
       "    </tr>\n",
       "    <tr>\n",
       "      <th>4</th>\n",
       "      <td>4</td>\n",
       "      <td>0.000000</td>\n",
       "      <td>4.124021</td>\n",
       "      <td>5.841922e-01</td>\n",
       "      <td>-1.394857</td>\n",
       "      <td>-0.895270</td>\n",
       "      <td>9.999995e-07</td>\n",
       "      <td>0.5</td>\n",
       "      <td>2.0</td>\n",
       "      <td>5.0</td>\n",
       "      <td>1.0</td>\n",
       "      <td>2.0</td>\n",
       "      <td>0.0</td>\n",
       "    </tr>\n",
       "  </tbody>\n",
       "</table>\n",
       "</div>"
      ],
      "text/plain": [
       "   Unnamed: 0  n_address  gaussian_income  gaussian_neighbors  \\\n",
       "0           0   0.000000         4.117884        9.999992e-07   \n",
       "1           1   0.040003         4.109888        9.999992e-07   \n",
       "2           2   0.000000         4.124657        5.841922e-01   \n",
       "3           3   0.000000         4.133164        5.841922e-01   \n",
       "4           4   0.000000         4.124021        5.841922e-01   \n",
       "\n",
       "   gaussian_weight  gaussian_length     log_count  sigmoid_looped  \\\n",
       "0        -0.807395        -0.676189  8.753529e+00             0.5   \n",
       "1        -4.661741        -0.074841  9.999995e-07             0.5   \n",
       "2         0.000000        -0.895270  9.999995e-07             0.5   \n",
       "3        -2.870421        -0.835088  9.013717e+00             1.0   \n",
       "4        -1.394857        -0.895270  9.999995e-07             0.5   \n",
       "\n",
       "   interaction_count_income  day_of_week  quarter_number  \\\n",
       "0                       1.0          2.0             3.0   \n",
       "1                       2.0          2.0             4.0   \n",
       "2                       2.0          4.0             3.0   \n",
       "3                       0.0          4.0             1.0   \n",
       "4                       2.0          5.0             1.0   \n",
       "\n",
       "   interaction_length_weight  Label-0/1  \n",
       "0                        0.0        0.0  \n",
       "1                        1.0        0.0  \n",
       "2                        2.0        0.0  \n",
       "3                        1.0        0.0  \n",
       "4                        2.0        0.0  "
      ]
     },
     "execution_count": 3,
     "metadata": {},
     "output_type": "execute_result"
    }
   ],
   "source": [
    "df.head()"
   ]
  },
  {
   "cell_type": "code",
   "execution_count": 4,
   "id": "ed1d5377",
   "metadata": {},
   "outputs": [],
   "source": [
    "df = df.iloc[:,1:]"
   ]
  },
  {
   "cell_type": "code",
   "execution_count": 5,
   "id": "d19b340c",
   "metadata": {},
   "outputs": [
    {
     "data": {
      "text/plain": [
       "0.0    414130\n",
       "1.0    414130\n",
       "Name: Label-0/1, dtype: int64"
      ]
     },
     "execution_count": 5,
     "metadata": {},
     "output_type": "execute_result"
    }
   ],
   "source": [
    "df['Label-0/1'].value_counts()"
   ]
  },
  {
   "cell_type": "code",
   "execution_count": 6,
   "id": "3963136a",
   "metadata": {},
   "outputs": [],
   "source": [
    "X = df.drop(['Label-0/1'], axis = 1)\n",
    "y = df['Label-0/1']"
   ]
  },
  {
   "cell_type": "code",
   "execution_count": 7,
   "id": "81b46e60",
   "metadata": {},
   "outputs": [],
   "source": [
    "X_train, X_test, y_train, y_test = train_test_split(X,y,random_state = 42,test_size = 0.2)"
   ]
  },
  {
   "cell_type": "code",
   "execution_count": 8,
   "id": "5d816ca7",
   "metadata": {},
   "outputs": [
    {
     "data": {
      "text/plain": [
       "(662608, 11)"
      ]
     },
     "execution_count": 8,
     "metadata": {},
     "output_type": "execute_result"
    }
   ],
   "source": [
    "X_train.shape"
   ]
  },
  {
   "cell_type": "code",
   "execution_count": 9,
   "id": "57f86226",
   "metadata": {},
   "outputs": [],
   "source": [
    "model=keras.models.Sequential([\n",
    "    layers.Dense(units=300,activation='relu',input_shape=[11]),\n",
    "    layers.Dense(units=512,activation='relu'),\n",
    "    layers.Dense(units=29,activation ='softmax'),\n",
    "])"
   ]
  },
  {
   "cell_type": "code",
   "execution_count": 10,
   "id": "f02aa706",
   "metadata": {
    "scrolled": true
   },
   "outputs": [
    {
     "name": "stdout",
     "output_type": "stream",
     "text": [
      "Model: \"sequential\"\n",
      "_________________________________________________________________\n",
      " Layer (type)                Output Shape              Param #   \n",
      "=================================================================\n",
      " dense (Dense)               (None, 300)               3600      \n",
      "                                                                 \n",
      " dense_1 (Dense)             (None, 512)               154112    \n",
      "                                                                 \n",
      " dense_2 (Dense)             (None, 29)                14877     \n",
      "                                                                 \n",
      "=================================================================\n",
      "Total params: 172,589\n",
      "Trainable params: 172,589\n",
      "Non-trainable params: 0\n",
      "_________________________________________________________________\n"
     ]
    }
   ],
   "source": [
    "model.summary()"
   ]
  },
  {
   "cell_type": "code",
   "execution_count": 11,
   "id": "9c13bbaa",
   "metadata": {},
   "outputs": [],
   "source": [
    "model.compile(loss='sparse_categorical_crossentropy',\n",
    "             optimizer=\"sgd\",\n",
    "             metrics=['accuracy'])"
   ]
  },
  {
   "cell_type": "code",
   "execution_count": 12,
   "id": "a55d4f97",
   "metadata": {},
   "outputs": [
    {
     "name": "stdout",
     "output_type": "stream",
     "text": [
      "Epoch 1/30\n",
      "663/663 [==============================] - 7s 7ms/step - loss: 0.7051 - accuracy: 0.5736 - val_loss: 0.6669 - val_accuracy: 0.5938\n",
      "Epoch 2/30\n",
      "663/663 [==============================] - 5s 7ms/step - loss: 0.6624 - accuracy: 0.5989 - val_loss: 0.6614 - val_accuracy: 0.6016\n",
      "Epoch 3/30\n",
      "663/663 [==============================] - 4s 7ms/step - loss: 0.6575 - accuracy: 0.6036 - val_loss: 0.6564 - val_accuracy: 0.6070\n",
      "Epoch 4/30\n",
      "663/663 [==============================] - 4s 7ms/step - loss: 0.6540 - accuracy: 0.6069 - val_loss: 0.6591 - val_accuracy: 0.5863\n",
      "Epoch 5/30\n",
      "663/663 [==============================] - 4s 7ms/step - loss: 0.6516 - accuracy: 0.6091 - val_loss: 0.6506 - val_accuracy: 0.6091\n",
      "Epoch 6/30\n",
      "663/663 [==============================] - 4s 7ms/step - loss: 0.6492 - accuracy: 0.6117 - val_loss: 0.6493 - val_accuracy: 0.6141\n",
      "Epoch 7/30\n",
      "663/663 [==============================] - 5s 7ms/step - loss: 0.6473 - accuracy: 0.6141 - val_loss: 0.6463 - val_accuracy: 0.6161\n",
      "Epoch 8/30\n",
      "663/663 [==============================] - 5s 7ms/step - loss: 0.6454 - accuracy: 0.6155 - val_loss: 0.6479 - val_accuracy: 0.6126\n",
      "Epoch 9/30\n",
      "663/663 [==============================] - 4s 7ms/step - loss: 0.6436 - accuracy: 0.6178 - val_loss: 0.6417 - val_accuracy: 0.6219\n",
      "Epoch 10/30\n",
      "663/663 [==============================] - 4s 7ms/step - loss: 0.6417 - accuracy: 0.6198 - val_loss: 0.6397 - val_accuracy: 0.6240\n",
      "Epoch 11/30\n",
      "663/663 [==============================] - 5s 7ms/step - loss: 0.6404 - accuracy: 0.6212 - val_loss: 0.6456 - val_accuracy: 0.6046\n",
      "Epoch 12/30\n",
      "663/663 [==============================] - 5s 7ms/step - loss: 0.6390 - accuracy: 0.6222 - val_loss: 0.6355 - val_accuracy: 0.6281\n",
      "Epoch 13/30\n",
      "663/663 [==============================] - 5s 7ms/step - loss: 0.6373 - accuracy: 0.6237 - val_loss: 0.6336 - val_accuracy: 0.6301\n",
      "Epoch 14/30\n",
      "663/663 [==============================] - 5s 7ms/step - loss: 0.6362 - accuracy: 0.6247 - val_loss: 0.6316 - val_accuracy: 0.6316\n",
      "Epoch 15/30\n",
      "663/663 [==============================] - 5s 7ms/step - loss: 0.6340 - accuracy: 0.6278 - val_loss: 0.6506 - val_accuracy: 0.6075\n",
      "Epoch 16/30\n",
      "663/663 [==============================] - 5s 7ms/step - loss: 0.6341 - accuracy: 0.6269 - val_loss: 0.6277 - val_accuracy: 0.6357\n",
      "Epoch 17/30\n",
      "663/663 [==============================] - 5s 7ms/step - loss: 0.6321 - accuracy: 0.6292 - val_loss: 0.6275 - val_accuracy: 0.6396\n",
      "Epoch 18/30\n",
      "663/663 [==============================] - 5s 7ms/step - loss: 0.6305 - accuracy: 0.6319 - val_loss: 0.6655 - val_accuracy: 0.5783\n",
      "Epoch 19/30\n",
      "663/663 [==============================] - 5s 7ms/step - loss: 0.6307 - accuracy: 0.6308 - val_loss: 0.6326 - val_accuracy: 0.6216\n",
      "Epoch 20/30\n",
      "663/663 [==============================] - 5s 7ms/step - loss: 0.6282 - accuracy: 0.6336 - val_loss: 0.6210 - val_accuracy: 0.6488\n",
      "Epoch 21/30\n",
      "663/663 [==============================] - 5s 7ms/step - loss: 0.6266 - accuracy: 0.6354 - val_loss: 0.6189 - val_accuracy: 0.6489\n",
      "Epoch 22/30\n",
      "663/663 [==============================] - 5s 7ms/step - loss: 0.6267 - accuracy: 0.6354 - val_loss: 0.6165 - val_accuracy: 0.6445\n",
      "Epoch 23/30\n",
      "663/663 [==============================] - 5s 7ms/step - loss: 0.6237 - accuracy: 0.6389 - val_loss: 0.6270 - val_accuracy: 0.6280\n",
      "Epoch 24/30\n",
      "663/663 [==============================] - 5s 7ms/step - loss: 0.6249 - accuracy: 0.6379 - val_loss: 0.6745 - val_accuracy: 0.5691\n",
      "Epoch 25/30\n",
      "663/663 [==============================] - 5s 7ms/step - loss: 0.6223 - accuracy: 0.6400 - val_loss: 0.6314 - val_accuracy: 0.6256\n",
      "Epoch 26/30\n",
      "663/663 [==============================] - 5s 7ms/step - loss: 0.6221 - accuracy: 0.6403 - val_loss: 0.6236 - val_accuracy: 0.6440\n",
      "Epoch 27/30\n",
      "663/663 [==============================] - 5s 7ms/step - loss: 0.6200 - accuracy: 0.6421 - val_loss: 0.6380 - val_accuracy: 0.6028\n",
      "Epoch 28/30\n",
      "663/663 [==============================] - 6s 9ms/step - loss: 0.6180 - accuracy: 0.6451 - val_loss: 0.6085 - val_accuracy: 0.6609\n",
      "Epoch 29/30\n",
      "663/663 [==============================] - 5s 7ms/step - loss: 0.6179 - accuracy: 0.6453 - val_loss: 0.6637 - val_accuracy: 0.5794\n",
      "Epoch 30/30\n",
      "663/663 [==============================] - 5s 7ms/step - loss: 0.6169 - accuracy: 0.6455 - val_loss: 0.6106 - val_accuracy: 0.6446\n"
     ]
    }
   ],
   "source": [
    "model_history=model.fit(X_train,y_train,validation_data=(X_test,y_test),batch_size=1000,epochs=30)"
   ]
  },
  {
   "cell_type": "code",
   "execution_count": 13,
   "id": "e8c77bb5",
   "metadata": {},
   "outputs": [
    {
     "data": {
      "text/plain": [
       "{'verbose': 1, 'epochs': 30, 'steps': 663}"
      ]
     },
     "execution_count": 13,
     "metadata": {},
     "output_type": "execute_result"
    }
   ],
   "source": [
    "model_history.params"
   ]
  },
  {
   "cell_type": "code",
   "execution_count": 14,
   "id": "0238009e",
   "metadata": {},
   "outputs": [
    {
     "name": "stdout",
     "output_type": "stream",
     "text": [
      "20707/20707 [==============================] - 25s 1ms/step - loss: 0.6095 - accuracy: 0.6458\n"
     ]
    },
    {
     "data": {
      "text/plain": [
       "[0.6094641089439392, 0.645822286605835]"
      ]
     },
     "execution_count": 14,
     "metadata": {},
     "output_type": "execute_result"
    }
   ],
   "source": [
    "model.evaluate(X_train,y_train)"
   ]
  },
  {
   "cell_type": "code",
   "execution_count": 15,
   "id": "38ef672e",
   "metadata": {},
   "outputs": [
    {
     "data": {
      "image/png": "[encoded data removed]",
      "text/plain": [
       "<Figure size 576x360 with 1 Axes>"
      ]
     },
     "metadata": {
      "needs_background": "light"
     },
     "output_type": "display_data"
    }
   ],
   "source": [
    "pd.DataFrame(model_history.history).plot(figsize=(8,5))\n",
    "plt.grid(True)\n",
    "plt.gca().set_ylim(0,1)\n",
    "plt.show()"
   ]
  },
  {
   "cell_type": "code",
   "execution_count": 16,
   "id": "098413fc",
   "metadata": {},
   "outputs": [],
   "source": [
    "model.save(\"Group_15_CNN.h5\", include_optimizer=True)"
   ]
  },
  {
   "cell_type": "code",
   "execution_count": null,
   "id": "38eff83e",
   "metadata": {},
   "outputs": [],
   "source": []
  }
 ],
 "metadata": {
  "kernelspec": {
   "display_name": "Python 3 (ipykernel)",
   "language": "python",
   "name": "python3"
  },
  "language_info": {
   "codemirror_mode": {
    "name": "ipython",
    "version": 3
   },
   "file_extension": ".py",
   "mimetype": "text/x-python",
   "name": "python",
   "nbconvert_exporter": "python",
   "pygments_lexer": "ipython3",
   "version": "3.9.7"
  }
 },
 "nbformat": 4,
 "nbformat_minor": 5
}
