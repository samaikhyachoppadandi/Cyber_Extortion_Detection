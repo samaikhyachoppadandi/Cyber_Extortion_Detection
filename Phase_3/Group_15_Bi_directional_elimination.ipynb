{
 "cells": [
  {
   "cell_type": "code",
   "execution_count": 2,
   "id": "81e51d5f",
   "metadata": {},
   "outputs": [],
   "source": [
    "import pandas as pd\n",
    "import numpy as np\n",
    "from mlxtend.feature_selection import SequentialFeatureSelector as SFS\n",
    "from sklearn.model_selection import train_test_split\n",
    "import pickle\n",
    "from sklearn.metrics import accuracy_score,recall_score, confusion_matrix\n",
    "import seaborn as sns\n",
    "import matplotlib.pyplot as plt\n",
    "from sklearn.svm import SVC"
   ]
  },
  {
   "cell_type": "code",
   "execution_count": 3,
   "id": "fa92b9a3",
   "metadata": {},
   "outputs": [],
   "source": [
    "df = pd.read_csv(\"Group_15_Resampled_Data.csv\")"
   ]
  },
  {
   "cell_type": "code",
   "execution_count": 4,
   "id": "8e9199f4",
   "metadata": {},
   "outputs": [],
   "source": [
    "df = df.iloc[:,1:]"
   ]
  },
  {
   "cell_type": "code",
   "execution_count": 5,
   "id": "8304b6b5",
   "metadata": {},
   "outputs": [
    {
     "data": {
      "text/html": [
       "<div>\n",
       "<style scoped>\n",
       "    .dataframe tbody tr th:only-of-type {\n",
       "        vertical-align: middle;\n",
       "    }\n",
       "\n",
       "    .dataframe tbody tr th {\n",
       "        vertical-align: top;\n",
       "    }\n",
       "\n",
       "    .dataframe thead th {\n",
       "        text-align: right;\n",
       "    }\n",
       "</style>\n",
       "<table border=\"1\" class=\"dataframe\">\n",
       "  <thead>\n",
       "    <tr style=\"text-align: right;\">\n",
       "      <th></th>\n",
       "      <th>n_address</th>\n",
       "      <th>gaussian_income</th>\n",
       "      <th>gaussian_neighbors</th>\n",
       "      <th>gaussian_weight</th>\n",
       "      <th>gaussian_length</th>\n",
       "      <th>log_count</th>\n",
       "      <th>sigmoid_looped</th>\n",
       "      <th>interaction_count_income</th>\n",
       "      <th>day_of_week</th>\n",
       "      <th>quarter_number</th>\n",
       "      <th>interaction_length_weight</th>\n",
       "      <th>Label-0/1</th>\n",
       "    </tr>\n",
       "  </thead>\n",
       "  <tbody>\n",
       "    <tr>\n",
       "      <th>0</th>\n",
       "      <td>0.040003</td>\n",
       "      <td>4.108190</td>\n",
       "      <td>9.999992e-07</td>\n",
       "      <td>-1.434974</td>\n",
       "      <td>-0.835088</td>\n",
       "      <td>8.702676e+00</td>\n",
       "      <td>1.0</td>\n",
       "      <td>1.0</td>\n",
       "      <td>1.0</td>\n",
       "      <td>4.0</td>\n",
       "      <td>1.0</td>\n",
       "      <td>0.0</td>\n",
       "    </tr>\n",
       "    <tr>\n",
       "      <th>1</th>\n",
       "      <td>0.000000</td>\n",
       "      <td>4.140377</td>\n",
       "      <td>5.841922e-01</td>\n",
       "      <td>0.000000</td>\n",
       "      <td>-1.517376</td>\n",
       "      <td>9.999995e-07</td>\n",
       "      <td>0.5</td>\n",
       "      <td>2.0</td>\n",
       "      <td>1.0</td>\n",
       "      <td>4.0</td>\n",
       "      <td>2.0</td>\n",
       "      <td>0.0</td>\n",
       "    </tr>\n",
       "    <tr>\n",
       "      <th>2</th>\n",
       "      <td>0.000000</td>\n",
       "      <td>4.119577</td>\n",
       "      <td>5.841922e-01</td>\n",
       "      <td>0.000000</td>\n",
       "      <td>-0.895270</td>\n",
       "      <td>9.999995e-07</td>\n",
       "      <td>0.5</td>\n",
       "      <td>2.0</td>\n",
       "      <td>1.0</td>\n",
       "      <td>2.0</td>\n",
       "      <td>2.0</td>\n",
       "      <td>0.0</td>\n",
       "    </tr>\n",
       "    <tr>\n",
       "      <th>3</th>\n",
       "      <td>0.040003</td>\n",
       "      <td>4.109626</td>\n",
       "      <td>9.999992e-07</td>\n",
       "      <td>-4.759610</td>\n",
       "      <td>-0.103159</td>\n",
       "      <td>9.999995e-07</td>\n",
       "      <td>0.5</td>\n",
       "      <td>2.0</td>\n",
       "      <td>3.0</td>\n",
       "      <td>4.0</td>\n",
       "      <td>1.0</td>\n",
       "      <td>0.0</td>\n",
       "    </tr>\n",
       "    <tr>\n",
       "      <th>4</th>\n",
       "      <td>0.000000</td>\n",
       "      <td>4.118499</td>\n",
       "      <td>9.999992e-07</td>\n",
       "      <td>-1.225015</td>\n",
       "      <td>-1.517376</td>\n",
       "      <td>9.999995e-07</td>\n",
       "      <td>0.5</td>\n",
       "      <td>2.0</td>\n",
       "      <td>3.0</td>\n",
       "      <td>1.0</td>\n",
       "      <td>2.0</td>\n",
       "      <td>0.0</td>\n",
       "    </tr>\n",
       "  </tbody>\n",
       "</table>\n",
       "</div>"
      ],
      "text/plain": [
       "   n_address  gaussian_income  gaussian_neighbors  gaussian_weight  \\\n",
       "0   0.040003         4.108190        9.999992e-07        -1.434974   \n",
       "1   0.000000         4.140377        5.841922e-01         0.000000   \n",
       "2   0.000000         4.119577        5.841922e-01         0.000000   \n",
       "3   0.040003         4.109626        9.999992e-07        -4.759610   \n",
       "4   0.000000         4.118499        9.999992e-07        -1.225015   \n",
       "\n",
       "   gaussian_length     log_count  sigmoid_looped  interaction_count_income  \\\n",
       "0        -0.835088  8.702676e+00             1.0                       1.0   \n",
       "1        -1.517376  9.999995e-07             0.5                       2.0   \n",
       "2        -0.895270  9.999995e-07             0.5                       2.0   \n",
       "3        -0.103159  9.999995e-07             0.5                       2.0   \n",
       "4        -1.517376  9.999995e-07             0.5                       2.0   \n",
       "\n",
       "   day_of_week  quarter_number  interaction_length_weight  Label-0/1  \n",
       "0          1.0             4.0                        1.0        0.0  \n",
       "1          1.0             4.0                        2.0        0.0  \n",
       "2          1.0             2.0                        2.0        0.0  \n",
       "3          3.0             4.0                        1.0        0.0  \n",
       "4          3.0             1.0                        2.0        0.0  "
      ]
     },
     "execution_count": 5,
     "metadata": {},
     "output_type": "execute_result"
    }
   ],
   "source": [
    "df.head()"
   ]
  },
  {
   "cell_type": "code",
   "execution_count": 6,
   "id": "74fe65c5",
   "metadata": {},
   "outputs": [],
   "source": [
    "X = df.drop(['Label-0/1'], axis = 1)\n",
    "y = df['Label-0/1']"
   ]
  },
  {
   "cell_type": "code",
   "execution_count": 7,
   "id": "07cba29b",
   "metadata": {},
   "outputs": [
    {
     "data": {
      "text/html": [
       "<div>\n",
       "<style scoped>\n",
       "    .dataframe tbody tr th:only-of-type {\n",
       "        vertical-align: middle;\n",
       "    }\n",
       "\n",
       "    .dataframe tbody tr th {\n",
       "        vertical-align: top;\n",
       "    }\n",
       "\n",
       "    .dataframe thead th {\n",
       "        text-align: right;\n",
       "    }\n",
       "</style>\n",
       "<table border=\"1\" class=\"dataframe\">\n",
       "  <thead>\n",
       "    <tr style=\"text-align: right;\">\n",
       "      <th></th>\n",
       "      <th>n_address</th>\n",
       "      <th>gaussian_income</th>\n",
       "      <th>gaussian_neighbors</th>\n",
       "      <th>gaussian_weight</th>\n",
       "      <th>gaussian_length</th>\n",
       "      <th>log_count</th>\n",
       "      <th>sigmoid_looped</th>\n",
       "      <th>interaction_count_income</th>\n",
       "      <th>day_of_week</th>\n",
       "      <th>quarter_number</th>\n",
       "      <th>interaction_length_weight</th>\n",
       "    </tr>\n",
       "  </thead>\n",
       "  <tbody>\n",
       "    <tr>\n",
       "      <th>0</th>\n",
       "      <td>0.040003</td>\n",
       "      <td>4.108190</td>\n",
       "      <td>9.999992e-07</td>\n",
       "      <td>-1.434974</td>\n",
       "      <td>-0.835088</td>\n",
       "      <td>8.702676e+00</td>\n",
       "      <td>1.0</td>\n",
       "      <td>1.0</td>\n",
       "      <td>1.0</td>\n",
       "      <td>4.0</td>\n",
       "      <td>1.0</td>\n",
       "    </tr>\n",
       "    <tr>\n",
       "      <th>1</th>\n",
       "      <td>0.000000</td>\n",
       "      <td>4.140377</td>\n",
       "      <td>5.841922e-01</td>\n",
       "      <td>0.000000</td>\n",
       "      <td>-1.517376</td>\n",
       "      <td>9.999995e-07</td>\n",
       "      <td>0.5</td>\n",
       "      <td>2.0</td>\n",
       "      <td>1.0</td>\n",
       "      <td>4.0</td>\n",
       "      <td>2.0</td>\n",
       "    </tr>\n",
       "    <tr>\n",
       "      <th>2</th>\n",
       "      <td>0.000000</td>\n",
       "      <td>4.119577</td>\n",
       "      <td>5.841922e-01</td>\n",
       "      <td>0.000000</td>\n",
       "      <td>-0.895270</td>\n",
       "      <td>9.999995e-07</td>\n",
       "      <td>0.5</td>\n",
       "      <td>2.0</td>\n",
       "      <td>1.0</td>\n",
       "      <td>2.0</td>\n",
       "      <td>2.0</td>\n",
       "    </tr>\n",
       "    <tr>\n",
       "      <th>3</th>\n",
       "      <td>0.040003</td>\n",
       "      <td>4.109626</td>\n",
       "      <td>9.999992e-07</td>\n",
       "      <td>-4.759610</td>\n",
       "      <td>-0.103159</td>\n",
       "      <td>9.999995e-07</td>\n",
       "      <td>0.5</td>\n",
       "      <td>2.0</td>\n",
       "      <td>3.0</td>\n",
       "      <td>4.0</td>\n",
       "      <td>1.0</td>\n",
       "    </tr>\n",
       "    <tr>\n",
       "      <th>4</th>\n",
       "      <td>0.000000</td>\n",
       "      <td>4.118499</td>\n",
       "      <td>9.999992e-07</td>\n",
       "      <td>-1.225015</td>\n",
       "      <td>-1.517376</td>\n",
       "      <td>9.999995e-07</td>\n",
       "      <td>0.5</td>\n",
       "      <td>2.0</td>\n",
       "      <td>3.0</td>\n",
       "      <td>1.0</td>\n",
       "      <td>2.0</td>\n",
       "    </tr>\n",
       "  </tbody>\n",
       "</table>\n",
       "</div>"
      ],
      "text/plain": [
       "   n_address  gaussian_income  gaussian_neighbors  gaussian_weight  \\\n",
       "0   0.040003         4.108190        9.999992e-07        -1.434974   \n",
       "1   0.000000         4.140377        5.841922e-01         0.000000   \n",
       "2   0.000000         4.119577        5.841922e-01         0.000000   \n",
       "3   0.040003         4.109626        9.999992e-07        -4.759610   \n",
       "4   0.000000         4.118499        9.999992e-07        -1.225015   \n",
       "\n",
       "   gaussian_length     log_count  sigmoid_looped  interaction_count_income  \\\n",
       "0        -0.835088  8.702676e+00             1.0                       1.0   \n",
       "1        -1.517376  9.999995e-07             0.5                       2.0   \n",
       "2        -0.895270  9.999995e-07             0.5                       2.0   \n",
       "3        -0.103159  9.999995e-07             0.5                       2.0   \n",
       "4        -1.517376  9.999995e-07             0.5                       2.0   \n",
       "\n",
       "   day_of_week  quarter_number  interaction_length_weight  \n",
       "0          1.0             4.0                        1.0  \n",
       "1          1.0             4.0                        2.0  \n",
       "2          1.0             2.0                        2.0  \n",
       "3          3.0             4.0                        1.0  \n",
       "4          3.0             1.0                        2.0  "
      ]
     },
     "execution_count": 7,
     "metadata": {},
     "output_type": "execute_result"
    }
   ],
   "source": [
    "X.head()"
   ]
  },
  {
   "cell_type": "code",
   "execution_count": 8,
   "id": "c3adea85",
   "metadata": {},
   "outputs": [],
   "source": [
    "X_train, X_test, y_train, y_test = train_test_split(X,y,random_state = 42,test_size = 0.2)"
   ]
  },
  {
   "cell_type": "code",
   "execution_count": 11,
   "id": "07296067",
   "metadata": {},
   "outputs": [
    {
     "name": "stderr",
     "output_type": "stream",
     "text": [
      "C:\\Users\\Sam\\anaconda3\\lib\\site-packages\\sklearn\\base.py:329: UserWarning: Trying to unpickle estimator DecisionTreeClassifier from version 1.1.3 when using version 1.1.2. This might lead to breaking code or invalid results. Use at your own risk. For more info please refer to:\n",
      "https://scikit-learn.org/stable/model_persistence.html#security-maintainability-limitations\n",
      "  warnings.warn(\n",
      "C:\\Users\\Sam\\anaconda3\\lib\\site-packages\\sklearn\\base.py:329: UserWarning: Trying to unpickle estimator RandomForestClassifier from version 1.1.3 when using version 1.1.2. This might lead to breaking code or invalid results. Use at your own risk. For more info please refer to:\n",
      "https://scikit-learn.org/stable/model_persistence.html#security-maintainability-limitations\n",
      "  warnings.warn(\n"
     ]
    }
   ],
   "source": [
    "rf_clf_2 = pickle.load(open(\"randomforest_model.sav\",'rb'))"
   ]
  },
  {
   "cell_type": "code",
   "execution_count": 10,
   "id": "6e775126",
   "metadata": {},
   "outputs": [],
   "source": [
    "sffs = SFS(rf_clf_2,\n",
    "         k_features=(1,11),\n",
    "         forward=True,\n",
    "         floating=True,\n",
    "         cv=0)"
   ]
  },
  {
   "cell_type": "code",
   "execution_count": 11,
   "id": "37a7e42c",
   "metadata": {},
   "outputs": [
    {
     "data": {
      "text/html": [
       "<style>#sk-container-id-1 {color: black;background-color: white;}#sk-container-id-1 pre{padding: 0;}#sk-container-id-1 div.sk-toggleable {background-color: white;}#sk-container-id-1 label.sk-toggleable__label {cursor: pointer;display: block;width: 100%;margin-bottom: 0;padding: 0.3em;box-sizing: border-box;text-align: center;}#sk-container-id-1 label.sk-toggleable__label-arrow:before {content: \"▸\";float: left;margin-right: 0.25em;color: #696969;}#sk-container-id-1 label.sk-toggleable__label-arrow:hover:before {color: black;}#sk-container-id-1 div.sk-estimator:hover label.sk-toggleable__label-arrow:before {color: black;}#sk-container-id-1 div.sk-toggleable__content {max-height: 0;max-width: 0;overflow: hidden;text-align: left;background-color: #f0f8ff;}#sk-container-id-1 div.sk-toggleable__content pre {margin: 0.2em;color: black;border-radius: 0.25em;background-color: #f0f8ff;}#sk-container-id-1 input.sk-toggleable__control:checked~div.sk-toggleable__content {max-height: 200px;max-width: 100%;overflow: auto;}#sk-container-id-1 input.sk-toggleable__control:checked~label.sk-toggleable__label-arrow:before {content: \"▾\";}#sk-container-id-1 div.sk-estimator input.sk-toggleable__control:checked~label.sk-toggleable__label {background-color: #d4ebff;}#sk-container-id-1 div.sk-label input.sk-toggleable__control:checked~label.sk-toggleable__label {background-color: #d4ebff;}#sk-container-id-1 input.sk-hidden--visually {border: 0;clip: rect(1px 1px 1px 1px);clip: rect(1px, 1px, 1px, 1px);height: 1px;margin: -1px;overflow: hidden;padding: 0;position: absolute;width: 1px;}#sk-container-id-1 div.sk-estimator {font-family: monospace;background-color: #f0f8ff;border: 1px dotted black;border-radius: 0.25em;box-sizing: border-box;margin-bottom: 0.5em;}#sk-container-id-1 div.sk-estimator:hover {background-color: #d4ebff;}#sk-container-id-1 div.sk-parallel-item::after {content: \"\";width: 100%;border-bottom: 1px solid gray;flex-grow: 1;}#sk-container-id-1 div.sk-label:hover label.sk-toggleable__label {background-color: #d4ebff;}#sk-container-id-1 div.sk-serial::before {content: \"\";position: absolute;border-left: 1px solid gray;box-sizing: border-box;top: 0;bottom: 0;left: 50%;z-index: 0;}#sk-container-id-1 div.sk-serial {display: flex;flex-direction: column;align-items: center;background-color: white;padding-right: 0.2em;padding-left: 0.2em;position: relative;}#sk-container-id-1 div.sk-item {position: relative;z-index: 1;}#sk-container-id-1 div.sk-parallel {display: flex;align-items: stretch;justify-content: center;background-color: white;position: relative;}#sk-container-id-1 div.sk-item::before, #sk-container-id-1 div.sk-parallel-item::before {content: \"\";position: absolute;border-left: 1px solid gray;box-sizing: border-box;top: 0;bottom: 0;left: 50%;z-index: -1;}#sk-container-id-1 div.sk-parallel-item {display: flex;flex-direction: column;z-index: 1;position: relative;background-color: white;}#sk-container-id-1 div.sk-parallel-item:first-child::after {align-self: flex-end;width: 50%;}#sk-container-id-1 div.sk-parallel-item:last-child::after {align-self: flex-start;width: 50%;}#sk-container-id-1 div.sk-parallel-item:only-child::after {width: 0;}#sk-container-id-1 div.sk-dashed-wrapped {border: 1px dashed gray;margin: 0 0.4em 0.5em 0.4em;box-sizing: border-box;padding-bottom: 0.4em;background-color: white;}#sk-container-id-1 div.sk-label label {font-family: monospace;font-weight: bold;display: inline-block;line-height: 1.2em;}#sk-container-id-1 div.sk-label-container {text-align: center;}#sk-container-id-1 div.sk-container {/* jupyter's `normalize.less` sets `[hidden] { display: none; }` but bootstrap.min.css set `[hidden] { display: none !important; }` so we also need the `!important` here to be able to override the default hidden behavior on the sphinx rendered scikit-learn.org. See: https://github.com/scikit-learn/scikit-learn/issues/21755 */display: inline-block !important;position: relative;}#sk-container-id-1 div.sk-text-repr-fallback {display: none;}</style><div id=\"sk-container-id-1\" class=\"sk-top-container\"><div class=\"sk-text-repr-fallback\"><pre>SequentialFeatureSelector(cv=0,\n",
       "                          estimator=RandomForestClassifier(max_depth=100,\n",
       "                                                           max_features=&#x27;log2&#x27;,\n",
       "                                                           n_estimators=10),\n",
       "                          floating=True, k_features=(1, 11),\n",
       "                          scoring=&#x27;accuracy&#x27;)</pre><b>In a Jupyter environment, please rerun this cell to show the HTML representation or trust the notebook. <br />On GitHub, the HTML representation is unable to render, please try loading this page with nbviewer.org.</b></div><div class=\"sk-container\" hidden><div class=\"sk-item sk-dashed-wrapped\"><div class=\"sk-label-container\"><div class=\"sk-label sk-toggleable\"><input class=\"sk-toggleable__control sk-hidden--visually\" id=\"sk-estimator-id-1\" type=\"checkbox\" ><label for=\"sk-estimator-id-1\" class=\"sk-toggleable__label sk-toggleable__label-arrow\">SequentialFeatureSelector</label><div class=\"sk-toggleable__content\"><pre>SequentialFeatureSelector(cv=0,\n",
       "                          estimator=RandomForestClassifier(max_depth=100,\n",
       "                                                           max_features=&#x27;log2&#x27;,\n",
       "                                                           n_estimators=10),\n",
       "                          floating=True, k_features=(1, 11),\n",
       "                          scoring=&#x27;accuracy&#x27;)</pre></div></div></div><div class=\"sk-parallel\"><div class=\"sk-parallel-item\"><div class=\"sk-item\"><div class=\"sk-label-container\"><div class=\"sk-label sk-toggleable\"><input class=\"sk-toggleable__control sk-hidden--visually\" id=\"sk-estimator-id-2\" type=\"checkbox\" ><label for=\"sk-estimator-id-2\" class=\"sk-toggleable__label sk-toggleable__label-arrow\">estimator: RandomForestClassifier</label><div class=\"sk-toggleable__content\"><pre>RandomForestClassifier(max_depth=100, max_features=&#x27;log2&#x27;, n_estimators=10)</pre></div></div></div><div class=\"sk-serial\"><div class=\"sk-item\"><div class=\"sk-estimator sk-toggleable\"><input class=\"sk-toggleable__control sk-hidden--visually\" id=\"sk-estimator-id-3\" type=\"checkbox\" ><label for=\"sk-estimator-id-3\" class=\"sk-toggleable__label sk-toggleable__label-arrow\">RandomForestClassifier</label><div class=\"sk-toggleable__content\"><pre>RandomForestClassifier(max_depth=100, max_features=&#x27;log2&#x27;, n_estimators=10)</pre></div></div></div></div></div></div></div></div></div></div>"
      ],
      "text/plain": [
       "SequentialFeatureSelector(cv=0,\n",
       "                          estimator=RandomForestClassifier(max_depth=100,\n",
       "                                                           max_features='log2',\n",
       "                                                           n_estimators=10),\n",
       "                          floating=True, k_features=(1, 11),\n",
       "                          scoring='accuracy')"
      ]
     },
     "execution_count": 11,
     "metadata": {},
     "output_type": "execute_result"
    }
   ],
   "source": [
    "sffs.fit(X_train,y_train)"
   ]
  },
  {
   "cell_type": "code",
   "execution_count": 12,
   "id": "54b2ee70",
   "metadata": {},
   "outputs": [
    {
     "data": {
      "text/plain": [
       "('n_address',\n",
       " 'gaussian_income',\n",
       " 'gaussian_neighbors',\n",
       " 'gaussian_weight',\n",
       " 'gaussian_length',\n",
       " 'log_count',\n",
       " 'day_of_week',\n",
       " 'quarter_number')"
      ]
     },
     "execution_count": 12,
     "metadata": {},
     "output_type": "execute_result"
    }
   ],
   "source": [
    "sffs.k_feature_names_"
   ]
  },
  {
   "cell_type": "code",
   "execution_count": 9,
   "id": "91fb5fe3",
   "metadata": {},
   "outputs": [],
   "source": [
    "X_train_new = X_train[['n_address',\n",
    " 'gaussian_income',\n",
    " 'gaussian_neighbors',\n",
    " 'gaussian_weight',\n",
    " 'gaussian_length',\n",
    " 'log_count',\n",
    " 'day_of_week',\n",
    " 'quarter_number']]"
   ]
  },
  {
   "cell_type": "code",
   "execution_count": 12,
   "id": "e8e83f6f",
   "metadata": {},
   "outputs": [],
   "source": [
    "rf_clf_sffs = rf_clf_2.fit(X_train_new, y_train)"
   ]
  },
  {
   "cell_type": "code",
   "execution_count": 13,
   "id": "25ac888c",
   "metadata": {},
   "outputs": [],
   "source": [
    "rf_preds_sffs = rf_clf_sffs.predict(X_train_new)"
   ]
  },
  {
   "cell_type": "code",
   "execution_count": 14,
   "id": "9b93f763",
   "metadata": {},
   "outputs": [
    {
     "name": "stdout",
     "output_type": "stream",
     "text": [
      "Accuracy for our training dataset 0.9915228913626156\n"
     ]
    }
   ],
   "source": [
    "accuracy=accuracy_score(y_true = y_train, y_pred = rf_preds_sffs)\n",
    "print(\"Accuracy for our training dataset\",accuracy)"
   ]
  },
  {
   "cell_type": "code",
   "execution_count": 15,
   "id": "7a1e876f",
   "metadata": {},
   "outputs": [
    {
     "name": "stdout",
     "output_type": "stream",
     "text": [
      "Recall for our testing dataset 0.9982882140366449\n"
     ]
    }
   ],
   "source": [
    "recall_score_sffs = recall_score(y_true = y_train, y_pred = rf_preds_sffs)\n",
    "print(\"Recall for our testing dataset\",recall_score_sffs)"
   ]
  },
  {
   "cell_type": "code",
   "execution_count": 16,
   "id": "c57ab404",
   "metadata": {},
   "outputs": [],
   "source": [
    "cm= confusion_matrix(y_train,rf_preds_sffs)"
   ]
  },
  {
   "cell_type": "code",
   "execution_count": 17,
   "id": "73a2f380",
   "metadata": {},
   "outputs": [
    {
     "data": {
      "image/png": "[encoded data removed]",
      "text/plain": [
       "<Figure size 432x288 with 2 Axes>"
      ]
     },
     "metadata": {
      "needs_background": "light"
     },
     "output_type": "display_data"
    }
   ],
   "source": [
    "ax = sns.heatmap(cm, annot = True, cmap = 'Blues')\n",
    "ax.set_title(\"Confusion Matrix with Random Forest\")\n",
    "ax.set_xlabel(\"\\nPredicted Values\")\n",
    "ax.set_ylabel(\"Actual Values\")\n",
    "plt.show()"
   ]
  },
  {
   "cell_type": "code",
   "execution_count": 19,
   "id": "8dfa3c6f",
   "metadata": {},
   "outputs": [],
   "source": [
    "svm_clf_2 = pickle.load(open(\"svc_model.sav\",'rb'))"
   ]
  },
  {
   "cell_type": "code",
   "execution_count": 20,
   "id": "dd96a14c",
   "metadata": {},
   "outputs": [],
   "source": [
    "sffs_svm = SFS(SVC(),\n",
    "         k_features=(1,11),\n",
    "         forward=True,\n",
    "         floating=True,\n",
    "         cv=0)"
   ]
  },
  {
   "cell_type": "code",
   "execution_count": null,
   "id": "819fed67",
   "metadata": {},
   "outputs": [],
   "source": [
    "sffs_svm.fit(X_train,y_train)"
   ]
  },
  {
   "cell_type": "code",
   "execution_count": null,
   "id": "94b60583",
   "metadata": {},
   "outputs": [],
   "source": [
    "sffs_svm.k_feature_names_"
   ]
  },
  {
   "cell_type": "code",
   "execution_count": 21,
   "id": "d7df1333",
   "metadata": {},
   "outputs": [],
   "source": [
    "X_train_sffs = X_train[['n_address',\n",
    " 'gaussian_income',\n",
    " 'gaussian_neighbors',\n",
    " 'gaussian_weight',\n",
    " 'gaussian_length',\n",
    " 'log_count',\n",
    " 'day_of_week',\n",
    " 'quarter_number']]"
   ]
  },
  {
   "cell_type": "code",
   "execution_count": 22,
   "id": "d30749f0",
   "metadata": {},
   "outputs": [],
   "source": [
    "svm_clf_sffs = svm_clf_2.fit(X_train_sffs, y_train)"
   ]
  },
  {
   "cell_type": "code",
   "execution_count": 23,
   "id": "4625abd2",
   "metadata": {},
   "outputs": [],
   "source": [
    "svm_preds_sffs = svm_clf_sffs.predict(X_train_sffs)"
   ]
  },
  {
   "cell_type": "code",
   "execution_count": 24,
   "id": "e4a1bb12",
   "metadata": {},
   "outputs": [
    {
     "name": "stdout",
     "output_type": "stream",
     "text": [
      "Accuracy for our training dataset 0.7171600705092603\n"
     ]
    }
   ],
   "source": [
    "accuracy=accuracy_score(y_true = y_train, y_pred = svm_preds_sffs)\n",
    "print(\"Accuracy for our training dataset\",accuracy)"
   ]
  },
  {
   "cell_type": "code",
   "execution_count": 25,
   "id": "34f12dca",
   "metadata": {},
   "outputs": [
    {
     "name": "stdout",
     "output_type": "stream",
     "text": [
      "Recall for our testing dataset 0.5590022733242159\n"
     ]
    }
   ],
   "source": [
    "recall_score_svm = recall_score(y_true = y_train, y_pred = svm_preds_sffs)\n",
    "print(\"Recall for our testing dataset\",recall_score_svm)"
   ]
  },
  {
   "cell_type": "code",
   "execution_count": 26,
   "id": "92535b08",
   "metadata": {},
   "outputs": [],
   "source": [
    "cm_svm= confusion_matrix(y_train,svm_preds_sffs)"
   ]
  },
  {
   "cell_type": "code",
   "execution_count": 27,
   "id": "aa285a33",
   "metadata": {},
   "outputs": [
    {
     "data": {
      "image/png": "[encoded data removed]",
      "text/plain": [
       "<Figure size 432x288 with 2 Axes>"
      ]
     },
     "metadata": {
      "needs_background": "light"
     },
     "output_type": "display_data"
    }
   ],
   "source": [
    "ax = sns.heatmap(cm_svm, annot = True, cmap = 'Blues')\n",
    "ax.set_title(\"Confusion Matrix with SVM\")\n",
    "ax.set_xlabel(\"\\nPredicted Values\")\n",
    "ax.set_ylabel(\"Actual Values\")\n",
    "plt.show()"
   ]
  },
  {
   "cell_type": "code",
   "execution_count": 28,
   "id": "df80d2a7",
   "metadata": {},
   "outputs": [],
   "source": [
    "filename = 'randomforest_model_sffs.sav'\n",
    "pickle.dump(rf_clf_sffs, open(filename, 'wb'))"
   ]
  },
  {
   "cell_type": "code",
   "execution_count": 29,
   "id": "f69303cb",
   "metadata": {},
   "outputs": [],
   "source": [
    "filename = 'svc_model_sffs.sav'\n",
    "pickle.dump(svm_clf_sffs, open(filename, 'wb'))"
   ]
  },
  {
   "cell_type": "code",
   "execution_count": null,
   "id": "fa827760",
   "metadata": {},
   "outputs": [],
   "source": []
  }
 ],
 "metadata": {
  "kernelspec": {
   "display_name": "Python 3 (ipykernel)",
   "language": "python",
   "name": "python3"
  },
  "language_info": {
   "codemirror_mode": {
    "name": "ipython",
    "version": 3
   },
   "file_extension": ".py",
   "mimetype": "text/x-python",
   "name": "python",
   "nbconvert_exporter": "python",
   "pygments_lexer": "ipython3",
   "version": "3.9.7"
  }
 },
 "nbformat": 4,
 "nbformat_minor": 5
}
