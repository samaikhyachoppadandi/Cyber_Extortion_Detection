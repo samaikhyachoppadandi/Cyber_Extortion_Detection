{
 "cells": [
  {
   "cell_type": "code",
   "execution_count": 1,
   "id": "b7a1c7f1",
   "metadata": {},
   "outputs": [],
   "source": [
    "import numpy as np\n",
    "import pandas as pd\n",
    "from sklearn.model_selection import train_test_split\n",
    "from sklearn.metrics import accuracy_score,f1_score,recall_score\n",
    "import random\n",
    "from sklearn import metrics\n",
    "from sklearn.neighbors import KNeighborsClassifier\n",
    "from sklearn.model_selection import GridSearchCV\n",
    "from sklearn.compose import ColumnTransformer\n",
    "from sklearn.preprocessing import StandardScaler\n",
    "from sklearn.preprocessing import OneHotEncoder\n",
    "from tqdm.notebook import tqdm"
   ]
  },
  {
   "cell_type": "code",
   "execution_count": 2,
   "id": "242c3c94",
   "metadata": {},
   "outputs": [],
   "source": [
    "df = pd.read_csv(\"Group_15_Resampled_Data.csv\")"
   ]
  },
  {
   "cell_type": "code",
   "execution_count": 3,
   "id": "67fcec3b",
   "metadata": {},
   "outputs": [
    {
     "data": {
      "text/html": [
       "<div>\n",
       "<style scoped>\n",
       "    .dataframe tbody tr th:only-of-type {\n",
       "        vertical-align: middle;\n",
       "    }\n",
       "\n",
       "    .dataframe tbody tr th {\n",
       "        vertical-align: top;\n",
       "    }\n",
       "\n",
       "    .dataframe thead th {\n",
       "        text-align: right;\n",
       "    }\n",
       "</style>\n",
       "<table border=\"1\" class=\"dataframe\">\n",
       "  <thead>\n",
       "    <tr style=\"text-align: right;\">\n",
       "      <th></th>\n",
       "      <th>Unnamed: 0</th>\n",
       "      <th>n_address</th>\n",
       "      <th>gaussian_income</th>\n",
       "      <th>gaussian_neighbors</th>\n",
       "      <th>gaussian_weight</th>\n",
       "      <th>gaussian_length</th>\n",
       "      <th>log_count</th>\n",
       "      <th>sigmoid_looped</th>\n",
       "      <th>interaction_count_income</th>\n",
       "      <th>day_of_week</th>\n",
       "      <th>quarter_number</th>\n",
       "      <th>interaction_length_weight</th>\n",
       "      <th>Label-0/1</th>\n",
       "    </tr>\n",
       "  </thead>\n",
       "  <tbody>\n",
       "    <tr>\n",
       "      <th>0</th>\n",
       "      <td>0</td>\n",
       "      <td>0.000000</td>\n",
       "      <td>4.108757</td>\n",
       "      <td>5.841922e-01</td>\n",
       "      <td>-2.698173</td>\n",
       "      <td>-1.517376</td>\n",
       "      <td>9.999995e-07</td>\n",
       "      <td>0.5</td>\n",
       "      <td>2.0</td>\n",
       "      <td>5.0</td>\n",
       "      <td>4.0</td>\n",
       "      <td>2.0</td>\n",
       "      <td>0.0</td>\n",
       "    </tr>\n",
       "    <tr>\n",
       "      <th>1</th>\n",
       "      <td>1</td>\n",
       "      <td>0.000000</td>\n",
       "      <td>4.137121</td>\n",
       "      <td>5.841922e-01</td>\n",
       "      <td>-0.651148</td>\n",
       "      <td>-0.895270</td>\n",
       "      <td>9.999995e-07</td>\n",
       "      <td>0.5</td>\n",
       "      <td>2.0</td>\n",
       "      <td>0.0</td>\n",
       "      <td>1.0</td>\n",
       "      <td>2.0</td>\n",
       "      <td>0.0</td>\n",
       "    </tr>\n",
       "    <tr>\n",
       "      <th>2</th>\n",
       "      <td>2</td>\n",
       "      <td>0.040003</td>\n",
       "      <td>4.105562</td>\n",
       "      <td>9.999992e-07</td>\n",
       "      <td>0.000000</td>\n",
       "      <td>-0.895270</td>\n",
       "      <td>9.999995e-07</td>\n",
       "      <td>0.5</td>\n",
       "      <td>2.0</td>\n",
       "      <td>3.0</td>\n",
       "      <td>3.0</td>\n",
       "      <td>2.0</td>\n",
       "      <td>0.0</td>\n",
       "    </tr>\n",
       "    <tr>\n",
       "      <th>3</th>\n",
       "      <td>3</td>\n",
       "      <td>0.000000</td>\n",
       "      <td>4.101095</td>\n",
       "      <td>5.841922e-01</td>\n",
       "      <td>-1.034121</td>\n",
       "      <td>-0.835088</td>\n",
       "      <td>6.461468e+00</td>\n",
       "      <td>0.5</td>\n",
       "      <td>1.0</td>\n",
       "      <td>6.0</td>\n",
       "      <td>4.0</td>\n",
       "      <td>0.0</td>\n",
       "      <td>0.0</td>\n",
       "    </tr>\n",
       "    <tr>\n",
       "      <th>4</th>\n",
       "      <td>4</td>\n",
       "      <td>0.000000</td>\n",
       "      <td>4.147665</td>\n",
       "      <td>5.841922e-01</td>\n",
       "      <td>-2.915540</td>\n",
       "      <td>-0.026262</td>\n",
       "      <td>9.999995e-07</td>\n",
       "      <td>0.5</td>\n",
       "      <td>2.0</td>\n",
       "      <td>3.0</td>\n",
       "      <td>2.0</td>\n",
       "      <td>1.0</td>\n",
       "      <td>0.0</td>\n",
       "    </tr>\n",
       "  </tbody>\n",
       "</table>\n",
       "</div>"
      ],
      "text/plain": [
       "   Unnamed: 0  n_address  gaussian_income  gaussian_neighbors  \\\n",
       "0           0   0.000000         4.108757        5.841922e-01   \n",
       "1           1   0.000000         4.137121        5.841922e-01   \n",
       "2           2   0.040003         4.105562        9.999992e-07   \n",
       "3           3   0.000000         4.101095        5.841922e-01   \n",
       "4           4   0.000000         4.147665        5.841922e-01   \n",
       "\n",
       "   gaussian_weight  gaussian_length     log_count  sigmoid_looped  \\\n",
       "0        -2.698173        -1.517376  9.999995e-07             0.5   \n",
       "1        -0.651148        -0.895270  9.999995e-07             0.5   \n",
       "2         0.000000        -0.895270  9.999995e-07             0.5   \n",
       "3        -1.034121        -0.835088  6.461468e+00             0.5   \n",
       "4        -2.915540        -0.026262  9.999995e-07             0.5   \n",
       "\n",
       "   interaction_count_income  day_of_week  quarter_number  \\\n",
       "0                       2.0          5.0             4.0   \n",
       "1                       2.0          0.0             1.0   \n",
       "2                       2.0          3.0             3.0   \n",
       "3                       1.0          6.0             4.0   \n",
       "4                       2.0          3.0             2.0   \n",
       "\n",
       "   interaction_length_weight  Label-0/1  \n",
       "0                        2.0        0.0  \n",
       "1                        2.0        0.0  \n",
       "2                        2.0        0.0  \n",
       "3                        0.0        0.0  \n",
       "4                        1.0        0.0  "
      ]
     },
     "execution_count": 3,
     "metadata": {},
     "output_type": "execute_result"
    }
   ],
   "source": [
    "df.head()"
   ]
  },
  {
   "cell_type": "code",
   "execution_count": 4,
   "id": "7292dfec",
   "metadata": {},
   "outputs": [],
   "source": [
    "df = df.iloc[:,1:]"
   ]
  },
  {
   "cell_type": "code",
   "execution_count": 5,
   "id": "a35f7a83",
   "metadata": {},
   "outputs": [
    {
     "data": {
      "text/html": [
       "<div>\n",
       "<style scoped>\n",
       "    .dataframe tbody tr th:only-of-type {\n",
       "        vertical-align: middle;\n",
       "    }\n",
       "\n",
       "    .dataframe tbody tr th {\n",
       "        vertical-align: top;\n",
       "    }\n",
       "\n",
       "    .dataframe thead th {\n",
       "        text-align: right;\n",
       "    }\n",
       "</style>\n",
       "<table border=\"1\" class=\"dataframe\">\n",
       "  <thead>\n",
       "    <tr style=\"text-align: right;\">\n",
       "      <th></th>\n",
       "      <th>n_address</th>\n",
       "      <th>gaussian_income</th>\n",
       "      <th>gaussian_neighbors</th>\n",
       "      <th>gaussian_weight</th>\n",
       "      <th>gaussian_length</th>\n",
       "      <th>log_count</th>\n",
       "      <th>sigmoid_looped</th>\n",
       "      <th>interaction_count_income</th>\n",
       "      <th>day_of_week</th>\n",
       "      <th>quarter_number</th>\n",
       "      <th>interaction_length_weight</th>\n",
       "      <th>Label-0/1</th>\n",
       "    </tr>\n",
       "  </thead>\n",
       "  <tbody>\n",
       "    <tr>\n",
       "      <th>0</th>\n",
       "      <td>0.000000</td>\n",
       "      <td>4.108757</td>\n",
       "      <td>5.841922e-01</td>\n",
       "      <td>-2.698173</td>\n",
       "      <td>-1.517376</td>\n",
       "      <td>9.999995e-07</td>\n",
       "      <td>0.5</td>\n",
       "      <td>2.0</td>\n",
       "      <td>5.0</td>\n",
       "      <td>4.0</td>\n",
       "      <td>2.0</td>\n",
       "      <td>0.0</td>\n",
       "    </tr>\n",
       "    <tr>\n",
       "      <th>1</th>\n",
       "      <td>0.000000</td>\n",
       "      <td>4.137121</td>\n",
       "      <td>5.841922e-01</td>\n",
       "      <td>-0.651148</td>\n",
       "      <td>-0.895270</td>\n",
       "      <td>9.999995e-07</td>\n",
       "      <td>0.5</td>\n",
       "      <td>2.0</td>\n",
       "      <td>0.0</td>\n",
       "      <td>1.0</td>\n",
       "      <td>2.0</td>\n",
       "      <td>0.0</td>\n",
       "    </tr>\n",
       "    <tr>\n",
       "      <th>2</th>\n",
       "      <td>0.040003</td>\n",
       "      <td>4.105562</td>\n",
       "      <td>9.999992e-07</td>\n",
       "      <td>0.000000</td>\n",
       "      <td>-0.895270</td>\n",
       "      <td>9.999995e-07</td>\n",
       "      <td>0.5</td>\n",
       "      <td>2.0</td>\n",
       "      <td>3.0</td>\n",
       "      <td>3.0</td>\n",
       "      <td>2.0</td>\n",
       "      <td>0.0</td>\n",
       "    </tr>\n",
       "    <tr>\n",
       "      <th>3</th>\n",
       "      <td>0.000000</td>\n",
       "      <td>4.101095</td>\n",
       "      <td>5.841922e-01</td>\n",
       "      <td>-1.034121</td>\n",
       "      <td>-0.835088</td>\n",
       "      <td>6.461468e+00</td>\n",
       "      <td>0.5</td>\n",
       "      <td>1.0</td>\n",
       "      <td>6.0</td>\n",
       "      <td>4.0</td>\n",
       "      <td>0.0</td>\n",
       "      <td>0.0</td>\n",
       "    </tr>\n",
       "    <tr>\n",
       "      <th>4</th>\n",
       "      <td>0.000000</td>\n",
       "      <td>4.147665</td>\n",
       "      <td>5.841922e-01</td>\n",
       "      <td>-2.915540</td>\n",
       "      <td>-0.026262</td>\n",
       "      <td>9.999995e-07</td>\n",
       "      <td>0.5</td>\n",
       "      <td>2.0</td>\n",
       "      <td>3.0</td>\n",
       "      <td>2.0</td>\n",
       "      <td>1.0</td>\n",
       "      <td>0.0</td>\n",
       "    </tr>\n",
       "  </tbody>\n",
       "</table>\n",
       "</div>"
      ],
      "text/plain": [
       "   n_address  gaussian_income  gaussian_neighbors  gaussian_weight  \\\n",
       "0   0.000000         4.108757        5.841922e-01        -2.698173   \n",
       "1   0.000000         4.137121        5.841922e-01        -0.651148   \n",
       "2   0.040003         4.105562        9.999992e-07         0.000000   \n",
       "3   0.000000         4.101095        5.841922e-01        -1.034121   \n",
       "4   0.000000         4.147665        5.841922e-01        -2.915540   \n",
       "\n",
       "   gaussian_length     log_count  sigmoid_looped  interaction_count_income  \\\n",
       "0        -1.517376  9.999995e-07             0.5                       2.0   \n",
       "1        -0.895270  9.999995e-07             0.5                       2.0   \n",
       "2        -0.895270  9.999995e-07             0.5                       2.0   \n",
       "3        -0.835088  6.461468e+00             0.5                       1.0   \n",
       "4        -0.026262  9.999995e-07             0.5                       2.0   \n",
       "\n",
       "   day_of_week  quarter_number  interaction_length_weight  Label-0/1  \n",
       "0          5.0             4.0                        2.0        0.0  \n",
       "1          0.0             1.0                        2.0        0.0  \n",
       "2          3.0             3.0                        2.0        0.0  \n",
       "3          6.0             4.0                        0.0        0.0  \n",
       "4          3.0             2.0                        1.0        0.0  "
      ]
     },
     "execution_count": 5,
     "metadata": {},
     "output_type": "execute_result"
    }
   ],
   "source": [
    "df.head()"
   ]
  },
  {
   "cell_type": "code",
   "execution_count": 6,
   "id": "83bbd063",
   "metadata": {},
   "outputs": [],
   "source": [
    "X = df.drop(['Label-0/1'] , axis = 1)"
   ]
  },
  {
   "cell_type": "code",
   "execution_count": 7,
   "id": "4030bf59",
   "metadata": {},
   "outputs": [],
   "source": [
    "y = df.iloc[:,-1]"
   ]
  },
  {
   "cell_type": "code",
   "execution_count": 8,
   "id": "80f633cd",
   "metadata": {},
   "outputs": [],
   "source": [
    "X_train, X_test, y_train, y_test = train_test_split(X,y,random_state = 42,test_size = 0.2)"
   ]
  },
  {
   "cell_type": "markdown",
   "id": "c9a0997b",
   "metadata": {},
   "source": [
    "### K - Nearest Neighbors"
   ]
  },
  {
   "cell_type": "code",
   "execution_count": 52,
   "id": "49bee82a",
   "metadata": {},
   "outputs": [],
   "source": [
    "knn = KNeighborsClassifier() \n",
    "k_value = list(np.arange(2,10))\n",
    "pgaram_grid=dict(n_neighbors=k_value)"
   ]
  },
  {
   "cell_type": "code",
   "execution_count": 53,
   "id": "0613c035",
   "metadata": {},
   "outputs": [],
   "source": [
    "#implementing the gridsearchcv to find the best k value\n",
    "#grid=GridSearchCV(knn, pgaram_grid, scoring='accuracy', return_train_score=True, verbose=1)"
   ]
  },
  {
   "cell_type": "code",
   "execution_count": 55,
   "id": "90651224",
   "metadata": {},
   "outputs": [
    {
     "name": "stdout",
     "output_type": "stream",
     "text": [
      "Fitting 5 folds for each of 8 candidates, totalling 40 fits\n"
     ]
    }
   ],
   "source": [
    "#Fitting th grid search with training set\n",
    "grid=GridSearchCV(knn, pgaram_grid, scoring='accuracy', return_train_score=True, verbose=1).fit(X_train,y_train)\n",
    "#print(grid)"
   ]
  },
  {
   "cell_type": "code",
   "execution_count": 64,
   "id": "649424d2",
   "metadata": {},
   "outputs": [
    {
     "name": "stdout",
     "output_type": "stream",
     "text": [
      "{'n_neighbors': 2}\n"
     ]
    }
   ],
   "source": [
    "print(grid.best_params_)"
   ]
  },
  {
   "cell_type": "code",
   "execution_count": 65,
   "id": "e08da503",
   "metadata": {},
   "outputs": [
    {
     "name": "stdout",
     "output_type": "stream",
     "text": [
      "Accuracy for our training dataset 93.86590592267466\n"
     ]
    }
   ],
   "source": [
    "accuracy=grid.best_score_*100\n",
    "print(\"Accuracy for our training dataset\",accuracy)"
   ]
  },
  {
   "cell_type": "code",
   "execution_count": 66,
   "id": "c1157f8a",
   "metadata": {},
   "outputs": [],
   "source": [
    "from sklearn.metrics import accuracy_score,f1_score,recall_score,confusion_matrix"
   ]
  },
  {
   "cell_type": "code",
   "execution_count": 68,
   "id": "403b01b6",
   "metadata": {},
   "outputs": [],
   "source": [
    "knn_1 = KNeighborsClassifier(n_neighbors = grid.best_params_['n_neighbors']) \n",
    "model = knn_1.fit(X_train,y_train)\n",
    "y_pred = model.predict(X_train)\n",
    "cm = confusion_matrix(y_train, y_pred)"
   ]
  },
  {
   "cell_type": "code",
   "execution_count": 69,
   "id": "3e65c657",
   "metadata": {},
   "outputs": [
    {
     "name": "stdout",
     "output_type": "stream",
     "text": [
      "[[328804   2571]\n",
      " [  6413 324820]]\n"
     ]
    }
   ],
   "source": [
    "print(cm)"
   ]
  },
  {
   "cell_type": "code",
   "execution_count": 70,
   "id": "f55cdbcb",
   "metadata": {},
   "outputs": [],
   "source": [
    "import matplotlib.pyplot as plt\n",
    "import seaborn as sns"
   ]
  },
  {
   "cell_type": "code",
   "execution_count": 71,
   "id": "f8b0491d",
   "metadata": {},
   "outputs": [
    {
     "data": {
      "image/png": "[encoded data removed]",
      "text/plain": [
       "<Figure size 1362x908 with 2 Axes>"
      ]
     },
     "metadata": {
      "needs_background": "light"
     },
     "output_type": "display_data"
    }
   ],
   "source": [
    "ax = sns.heatmap(cm, annot=True, cmap='Blues')\n",
    "\n",
    "ax.set_title('Confusion Matrix with  KNN\\n\\n');\n",
    "ax.set_xlabel('\\nPredicted Values')\n",
    "ax.set_ylabel('Actual Values');\n",
    "\n",
    "## Display the visualization of the Confusion Matrix.\n",
    "plt.show()"
   ]
  },
  {
   "cell_type": "code",
   "execution_count": 72,
   "id": "165e6393",
   "metadata": {},
   "outputs": [],
   "source": [
    "### Results of the algorithm"
   ]
  },
  {
   "cell_type": "code",
   "execution_count": 73,
   "id": "f8ba3a9d",
   "metadata": {},
   "outputs": [
    {
     "name": "stdout",
     "output_type": "stream",
     "text": [
      "The accuracy of the model is  98.64414555815807\n"
     ]
    }
   ],
   "source": [
    "acc = accuracy_score(y_train,y_pred)\n",
    "print(\"The accuracy of the model is \", acc*100)"
   ]
  },
  {
   "cell_type": "code",
   "execution_count": 74,
   "id": "1c2fcc03",
   "metadata": {},
   "outputs": [
    {
     "name": "stdout",
     "output_type": "stream",
     "text": [
      "The recall score for the applied algorithm 0.9806390063791953\n"
     ]
    }
   ],
   "source": [
    "recall=recall_score(y_train,y_pred)\n",
    "print(\"The recall score for the applied algorithm\",recall)"
   ]
  },
  {
   "cell_type": "code",
   "execution_count": 76,
   "id": "3ba19f12",
   "metadata": {},
   "outputs": [],
   "source": [
    "import pickle"
   ]
  },
  {
   "cell_type": "code",
   "execution_count": 78,
   "id": "09701706",
   "metadata": {},
   "outputs": [],
   "source": [
    "filename = 'KNN_model.sav'\n",
    "pickle.dump(knn_1, open(filename,'wb'))"
   ]
  },
  {
   "cell_type": "code",
   "execution_count": null,
   "id": "dc81ed3b",
   "metadata": {},
   "outputs": [],
   "source": []
  }
 ],
 "metadata": {
  "kernelspec": {
   "display_name": "Python 3 (ipykernel)",
   "language": "python",
   "name": "python3"
  },
  "language_info": {
   "codemirror_mode": {
    "name": "ipython",
    "version": 3
   },
   "file_extension": ".py",
   "mimetype": "text/x-python",
   "name": "python",
   "nbconvert_exporter": "python",
   "pygments_lexer": "ipython3",
   "version": "3.9.12"
  }
 },
 "nbformat": 4,
 "nbformat_minor": 5
}
