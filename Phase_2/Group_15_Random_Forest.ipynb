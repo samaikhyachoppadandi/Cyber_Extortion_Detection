{
 "cells": [
  {
   "cell_type": "code",
   "execution_count": 12,
   "id": "7005911f",
   "metadata": {},
   "outputs": [],
   "source": [
    "import numpy as np\n",
    "import pandas as pd\n",
    "from sklearn.model_selection import train_test_split\n",
    "from sklearn.metrics import accuracy_score,f1_score,recall_score,confusion_matrix\n",
    "import random\n",
    "from sklearn import metrics\n",
    "from sklearn.ensemble import RandomForestClassifier\n",
    "from sklearn.model_selection import GridSearchCV\n",
    "import seaborn as sns\n",
    "import matplotlib.pyplot as plt\n",
    "import warnings\n",
    "warnings.filterwarnings('ignore')"
   ]
  },
  {
   "cell_type": "code",
   "execution_count": 2,
   "id": "72497cc2",
   "metadata": {},
   "outputs": [],
   "source": [
    "df = pd.read_csv(\"Group_15_Resampled_Data.csv\")"
   ]
  },
  {
   "cell_type": "code",
   "execution_count": 3,
   "id": "a394ce23",
   "metadata": {},
   "outputs": [
    {
     "data": {
      "text/html": [
       "<div>\n",
       "<style scoped>\n",
       "    .dataframe tbody tr th:only-of-type {\n",
       "        vertical-align: middle;\n",
       "    }\n",
       "\n",
       "    .dataframe tbody tr th {\n",
       "        vertical-align: top;\n",
       "    }\n",
       "\n",
       "    .dataframe thead th {\n",
       "        text-align: right;\n",
       "    }\n",
       "</style>\n",
       "<table border=\"1\" class=\"dataframe\">\n",
       "  <thead>\n",
       "    <tr style=\"text-align: right;\">\n",
       "      <th></th>\n",
       "      <th>Unnamed: 0</th>\n",
       "      <th>n_address</th>\n",
       "      <th>gaussian_income</th>\n",
       "      <th>gaussian_neighbors</th>\n",
       "      <th>gaussian_weight</th>\n",
       "      <th>gaussian_length</th>\n",
       "      <th>log_count</th>\n",
       "      <th>sigmoid_looped</th>\n",
       "      <th>interaction_count_income</th>\n",
       "      <th>day_of_week</th>\n",
       "      <th>quarter_number</th>\n",
       "      <th>interaction_length_weight</th>\n",
       "      <th>Label-0/1</th>\n",
       "    </tr>\n",
       "  </thead>\n",
       "  <tbody>\n",
       "    <tr>\n",
       "      <th>0</th>\n",
       "      <td>0</td>\n",
       "      <td>0.0</td>\n",
       "      <td>4.125014</td>\n",
       "      <td>5.841922e-01</td>\n",
       "      <td>-5.446979</td>\n",
       "      <td>-0.835088</td>\n",
       "      <td>6.946014e+00</td>\n",
       "      <td>1.0</td>\n",
       "      <td>1.0</td>\n",
       "      <td>3.0</td>\n",
       "      <td>3.0</td>\n",
       "      <td>1.0</td>\n",
       "      <td>0.0</td>\n",
       "    </tr>\n",
       "    <tr>\n",
       "      <th>1</th>\n",
       "      <td>1</td>\n",
       "      <td>0.0</td>\n",
       "      <td>4.148253</td>\n",
       "      <td>9.999992e-07</td>\n",
       "      <td>-0.651148</td>\n",
       "      <td>-0.000639</td>\n",
       "      <td>9.999995e-07</td>\n",
       "      <td>0.5</td>\n",
       "      <td>2.0</td>\n",
       "      <td>5.0</td>\n",
       "      <td>2.0</td>\n",
       "      <td>0.0</td>\n",
       "      <td>0.0</td>\n",
       "    </tr>\n",
       "    <tr>\n",
       "      <th>2</th>\n",
       "      <td>2</td>\n",
       "      <td>0.0</td>\n",
       "      <td>4.142773</td>\n",
       "      <td>5.841922e-01</td>\n",
       "      <td>-0.651148</td>\n",
       "      <td>-1.517376</td>\n",
       "      <td>9.999995e-07</td>\n",
       "      <td>0.5</td>\n",
       "      <td>2.0</td>\n",
       "      <td>5.0</td>\n",
       "      <td>1.0</td>\n",
       "      <td>2.0</td>\n",
       "      <td>0.0</td>\n",
       "    </tr>\n",
       "    <tr>\n",
       "      <th>3</th>\n",
       "      <td>3</td>\n",
       "      <td>0.0</td>\n",
       "      <td>4.145137</td>\n",
       "      <td>5.841922e-01</td>\n",
       "      <td>0.000000</td>\n",
       "      <td>-0.895270</td>\n",
       "      <td>9.999995e-07</td>\n",
       "      <td>0.5</td>\n",
       "      <td>2.0</td>\n",
       "      <td>3.0</td>\n",
       "      <td>1.0</td>\n",
       "      <td>2.0</td>\n",
       "      <td>0.0</td>\n",
       "    </tr>\n",
       "    <tr>\n",
       "      <th>4</th>\n",
       "      <td>4</td>\n",
       "      <td>0.0</td>\n",
       "      <td>4.114886</td>\n",
       "      <td>5.841922e-01</td>\n",
       "      <td>-4.324716</td>\n",
       "      <td>-0.034032</td>\n",
       "      <td>9.999995e-07</td>\n",
       "      <td>0.5</td>\n",
       "      <td>2.0</td>\n",
       "      <td>2.0</td>\n",
       "      <td>1.0</td>\n",
       "      <td>1.0</td>\n",
       "      <td>0.0</td>\n",
       "    </tr>\n",
       "  </tbody>\n",
       "</table>\n",
       "</div>"
      ],
      "text/plain": [
       "   Unnamed: 0  n_address  gaussian_income  gaussian_neighbors  \\\n",
       "0           0        0.0         4.125014        5.841922e-01   \n",
       "1           1        0.0         4.148253        9.999992e-07   \n",
       "2           2        0.0         4.142773        5.841922e-01   \n",
       "3           3        0.0         4.145137        5.841922e-01   \n",
       "4           4        0.0         4.114886        5.841922e-01   \n",
       "\n",
       "   gaussian_weight  gaussian_length     log_count  sigmoid_looped  \\\n",
       "0        -5.446979        -0.835088  6.946014e+00             1.0   \n",
       "1        -0.651148        -0.000639  9.999995e-07             0.5   \n",
       "2        -0.651148        -1.517376  9.999995e-07             0.5   \n",
       "3         0.000000        -0.895270  9.999995e-07             0.5   \n",
       "4        -4.324716        -0.034032  9.999995e-07             0.5   \n",
       "\n",
       "   interaction_count_income  day_of_week  quarter_number  \\\n",
       "0                       1.0          3.0             3.0   \n",
       "1                       2.0          5.0             2.0   \n",
       "2                       2.0          5.0             1.0   \n",
       "3                       2.0          3.0             1.0   \n",
       "4                       2.0          2.0             1.0   \n",
       "\n",
       "   interaction_length_weight  Label-0/1  \n",
       "0                        1.0        0.0  \n",
       "1                        0.0        0.0  \n",
       "2                        2.0        0.0  \n",
       "3                        2.0        0.0  \n",
       "4                        1.0        0.0  "
      ]
     },
     "execution_count": 3,
     "metadata": {},
     "output_type": "execute_result"
    }
   ],
   "source": [
    "df.head()"
   ]
  },
  {
   "cell_type": "code",
   "execution_count": 4,
   "id": "00409011",
   "metadata": {},
   "outputs": [],
   "source": [
    "df = df.iloc[:,1:]"
   ]
  },
  {
   "cell_type": "code",
   "execution_count": 5,
   "id": "610fa26f",
   "metadata": {},
   "outputs": [
    {
     "data": {
      "text/plain": [
       "0.0    414130\n",
       "1.0    414130\n",
       "Name: Label-0/1, dtype: int64"
      ]
     },
     "execution_count": 5,
     "metadata": {},
     "output_type": "execute_result"
    }
   ],
   "source": [
    "df['Label-0/1'].value_counts()"
   ]
  },
  {
   "cell_type": "code",
   "execution_count": 6,
   "id": "a7eb3626",
   "metadata": {},
   "outputs": [],
   "source": [
    "X = df.drop(['Label-0/1'], axis = 1)\n",
    "y = df['Label-0/1']"
   ]
  },
  {
   "cell_type": "code",
   "execution_count": 7,
   "id": "1756f10c",
   "metadata": {},
   "outputs": [],
   "source": [
    "X_train, X_test, y_train, y_test = train_test_split(X,y,\n",
    "    random_state = 42,\n",
    "    test_size = 0.2)"
   ]
  },
  {
   "cell_type": "code",
   "execution_count": 8,
   "id": "ed599578",
   "metadata": {},
   "outputs": [],
   "source": [
    "rf = RandomForestClassifier()"
   ]
  },
  {
   "cell_type": "code",
   "execution_count": 9,
   "id": "cd9a00fc",
   "metadata": {},
   "outputs": [],
   "source": [
    "params_grid = {\n",
    "    'max_depth': [10,50,100],\n",
    "    'n_estimators':[10,55,100]\n",
    "}"
   ]
  },
  {
   "cell_type": "code",
   "execution_count": 14,
   "id": "360b1c6f",
   "metadata": {},
   "outputs": [],
   "source": [
    "grid_rf = GridSearchCV(rf, params_grid, scoring = 'accuracy' , refit = True, n_jobs = 1).fit(X_train, y_train)"
   ]
  },
  {
   "cell_type": "code",
   "execution_count": 15,
   "id": "45014326",
   "metadata": {},
   "outputs": [
    {
     "name": "stdout",
     "output_type": "stream",
     "text": [
      "Accuracy for our training dataset 96.72249650753179\n"
     ]
    }
   ],
   "source": [
    "accuracy=grid_rf.best_score_*100\n",
    "print(\"Accuracy for our training dataset\",accuracy)"
   ]
  },
  {
   "cell_type": "code",
   "execution_count": 16,
   "id": "680b56ee",
   "metadata": {},
   "outputs": [],
   "source": [
    "rf_clf = RandomForestClassifier(n_estimators=10, max_depth = 100, max_features = 'log2').fit(X_train, y_train)"
   ]
  },
  {
   "cell_type": "code",
   "execution_count": 17,
   "id": "249c4f9a",
   "metadata": {},
   "outputs": [],
   "source": [
    "rf_preds = rf_clf.predict(X_train)"
   ]
  },
  {
   "cell_type": "code",
   "execution_count": 18,
   "id": "e946c472",
   "metadata": {},
   "outputs": [
    {
     "name": "stdout",
     "output_type": "stream",
     "text": [
      "Accuracy for our training dataset 96.72249650753179\n"
     ]
    }
   ],
   "source": [
    "accuracy_score(y_true = y_train, y_pred = rf_preds)\n",
    "print(\"Accuracy for our training dataset\",accuracy)"
   ]
  },
  {
   "cell_type": "code",
   "execution_count": 19,
   "id": "8f9f8495",
   "metadata": {},
   "outputs": [
    {
     "name": "stdout",
     "output_type": "stream",
     "text": [
      "Recall for our testing dataset 0.998445203225524\n"
     ]
    }
   ],
   "source": [
    "recall_score = recall_score(y_true = y_train, y_pred = rf_preds)\n",
    "print(\"Recall for our testing dataset\",recall_score)"
   ]
  },
  {
   "cell_type": "code",
   "execution_count": 20,
   "id": "f1387819",
   "metadata": {},
   "outputs": [],
   "source": [
    "cm= confusion_matrix(y_train,rf_preds)"
   ]
  },
  {
   "cell_type": "code",
   "execution_count": 21,
   "id": "767d4edc",
   "metadata": {},
   "outputs": [
    {
     "data": {
      "image/png": "[encoded data removed]",
      "text/plain": [
       "<Figure size 432x288 with 2 Axes>"
      ]
     },
     "metadata": {
      "needs_background": "light"
     },
     "output_type": "display_data"
    }
   ],
   "source": [
    "ax = sns.heatmap(cm, annot = True, cmap = 'Blues')\n",
    "ax.set_title(\"Confusion Matrix with Random Forest\")\n",
    "ax.set_xlabel(\"\\nPredicted Values\")\n",
    "ax.set_ylabel(\"Actual Values\")\n",
    "plt.show()"
   ]
  },
  {
   "cell_type": "code",
   "execution_count": null,
   "id": "c3b76cfb",
   "metadata": {},
   "outputs": [],
   "source": []
  }
 ],
 "metadata": {
  "kernelspec": {
   "display_name": "Python 3 (ipykernel)",
   "language": "python",
   "name": "python3"
  },
  "language_info": {
   "codemirror_mode": {
    "name": "ipython",
    "version": 3
   },
   "file_extension": ".py",
   "mimetype": "text/x-python",
   "name": "python",
   "nbconvert_exporter": "python",
   "pygments_lexer": "ipython3",
   "version": "3.9.7"
  }
 },
 "nbformat": 4,
 "nbformat_minor": 5
}
